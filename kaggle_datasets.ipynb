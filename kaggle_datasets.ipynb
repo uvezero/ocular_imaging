{
 "cells": [
  {
   "cell_type": "code",
   "execution_count": 22,
   "id": "0604f6c2",
   "metadata": {},
   "outputs": [],
   "source": [
    "#kaggle"
   ]
  },
  {
   "cell_type": "code",
   "execution_count": 32,
   "id": "ba8c1283",
   "metadata": {},
   "outputs": [
    {
     "name": "stdout",
     "output_type": "stream",
     "text": [
      "Requirement already satisfied: kaggle in /Users/josemarcoslopez-rios/opt/anaconda3/envs/torch_env/lib/python3.9/site-packages (1.5.12)\r\n",
      "Requirement already satisfied: python-dateutil in /Users/josemarcoslopez-rios/opt/anaconda3/envs/torch_env/lib/python3.9/site-packages (from kaggle) (2.8.2)\r\n",
      "Requirement already satisfied: six>=1.10 in /Users/josemarcoslopez-rios/opt/anaconda3/envs/torch_env/lib/python3.9/site-packages (from kaggle) (1.16.0)\r\n",
      "Requirement already satisfied: python-slugify in /Users/josemarcoslopez-rios/opt/anaconda3/envs/torch_env/lib/python3.9/site-packages (from kaggle) (8.0.0)\r\n",
      "Requirement already satisfied: certifi in /Users/josemarcoslopez-rios/opt/anaconda3/envs/torch_env/lib/python3.9/site-packages (from kaggle) (2022.12.7)\r\n",
      "Requirement already satisfied: requests in /Users/josemarcoslopez-rios/opt/anaconda3/envs/torch_env/lib/python3.9/site-packages (from kaggle) (2.28.2)\r\n",
      "Requirement already satisfied: tqdm in /Users/josemarcoslopez-rios/opt/anaconda3/envs/torch_env/lib/python3.9/site-packages (from kaggle) (4.64.1)\r\n",
      "Requirement already satisfied: urllib3 in /Users/josemarcoslopez-rios/opt/anaconda3/envs/torch_env/lib/python3.9/site-packages (from kaggle) (1.26.14)\r\n",
      "Requirement already satisfied: text-unidecode>=1.3 in /Users/josemarcoslopez-rios/opt/anaconda3/envs/torch_env/lib/python3.9/site-packages (from python-slugify->kaggle) (1.3)\r\n",
      "Requirement already satisfied: charset-normalizer<4,>=2 in /Users/josemarcoslopez-rios/opt/anaconda3/envs/torch_env/lib/python3.9/site-packages (from requests->kaggle) (3.0.1)\r\n",
      "Requirement already satisfied: idna<4,>=2.5 in /Users/josemarcoslopez-rios/opt/anaconda3/envs/torch_env/lib/python3.9/site-packages (from requests->kaggle) (3.4)\r\n"
     ]
    }
   ],
   "source": [
    "!pip install kaggle"
   ]
  },
  {
   "cell_type": "code",
   "execution_count": 33,
   "id": "42d1b3c2",
   "metadata": {},
   "outputs": [
    {
     "name": "stdout",
     "output_type": "stream",
     "text": [
      "mkdir: /Users/josemarcoslopez-rios/.kaggle: File exists\r\n"
     ]
    }
   ],
   "source": [
    "!mkdir ~/.kaggle"
   ]
  },
  {
   "cell_type": "code",
   "execution_count": 34,
   "id": "45d28533",
   "metadata": {},
   "outputs": [],
   "source": [
    "!cp /Users/josemarcoslopez-rios/Downloads/kaggle.json /Users/josemarcoslopez-rios/.kaggle/kaggle.json"
   ]
  },
  {
   "cell_type": "code",
   "execution_count": 35,
   "id": "d0bcbc5c",
   "metadata": {},
   "outputs": [
    {
     "name": "stdout",
     "output_type": "stream",
     "text": [
      "kaggle.json\r\n"
     ]
    }
   ],
   "source": [
    "!cd /Users/josemarcoslopez-rios/.kaggle && ls"
   ]
  },
  {
   "cell_type": "code",
   "execution_count": 36,
   "id": "9be18b79",
   "metadata": {},
   "outputs": [
    {
     "name": "stdout",
     "output_type": "stream",
     "text": [
      "Warning: Your Kaggle API key is readable by other users on this system! To fix this, you can run 'chmod 600 /Users/josemarcoslopez-rios/.kaggle/kaggle.json'\n",
      "ref                                                                    title                                                size  lastUpdated          downloadCount  voteCount  usabilityRating  \n",
      "---------------------------------------------------------------------  --------------------------------------------------  -----  -------------------  -------------  ---------  ---------------  \n",
      "tanlikesmath/diabetic-retinopathy-resized                              Diabetic Retinopathy (resized)                        7GB  2019-05-08 01:48:17          14651        429  0.5882353        \n",
      "sovitrath/diabetic-retinopathy-224x224-gaussian-filtered               Diabetic Retinopathy 224x224 Gaussian Filtered      427MB  2020-02-18 02:33:27           6540        143  0.88235295       \n",
      "sachinkumar413/diabetic-retinopathy-dataset                            Diabetic Retinopathy Dataset                        350MB  2022-04-24 16:55:11            712         36  0.75             \n",
      "amanneo/diabetic-retinopathy-resized-arranged                          Diabetic Retinopathy Arranged                         1GB  2021-01-11 13:24:36           1490         42  0.6875           \n",
      "sovitrath/diabetic-retinopathy-2015-data-colored-resized               Diabetic Retinopathy 2015 Data Colored Resized        2GB  2020-03-05 10:53:06           2434         35  0.88235295       \n",
      "sovitrath/diabetic-retinopathy-224x224-2019-data                       Diabetic Retinopathy 224x224 (2019 Data)            238MB  2020-02-18 07:22:41           1308         12  0.88235295       \n",
      "benjaminwarner/resized-2015-2019-blindness-detection-images            Resized 2015 & 2019 Blindness Detection Images       17GB  2019-07-03 04:01:09           5408         96  0.7058824        \n",
      "aaryapatel98/indian-diabetic-retinopathy-image-dataset                 INDIAN DIABETIC RETINOPATHY IMAGE DATASET           408MB  2020-01-11 17:58:27           1825         40  0.7647059        \n",
      "saipavansaketh/diabetic-retinopathy-unziped                            Diabetic Retinopathy Unziped                         33GB  2021-06-12 12:03:46            155         13  0.8235294        \n",
      "google-brain/messidor2-dr-grades                                       MESSIDOR-2 DR Grades                                  7KB  2018-07-02 23:18:22           3761        109  0.88235295       \n",
      "sohaibanwaar1203/prepossessed-arrays-of-binary-data                    Diabetic-Ratinopathy_Sample_Dataset_Binary          779MB  2019-01-27 21:08:39           1228         30  0.5625           \n",
      "luigisaetta/diabetic-tfrecords                                         Diabetic Retinopathy TFRecords (256x256)            847MB  2020-08-10 16:25:02            216          9  0.8125           \n",
      "gunavenkatdoddi/eye-diseases-classification                            eye_diseases_classification                         736MB  2022-08-28 09:24:24           1300         27  0.875            \n",
      "sachinkumar413/diabetic-retinopathy-preprocessed-dataset               Diabetic Retinopathy Preprocessed Dataset            46MB  2022-04-24 19:04:33            276         22  0.8125           \n",
      "gami4388/diabetic-retinopathy-resized-train-15-19-dg                   diabetic retinopathy resized_train_15_19_DG          35GB  2019-07-14 14:05:52            258         12  0.47058824       \n",
      "luigisaetta/tfrecord512                                                Diabetic Retinopathy TFRecords (512x512)              9GB  2020-08-24 07:02:14            165          9  0.75             \n",
      "c7934597/resized-2015-2019-diabetic-retinopathy-detection              Resized 2015 & 2019 Diabetic Retinopathy Detection   17GB  2021-06-03 03:24:01            319         12  0.88235295       \n",
      "mohammadasimbluemoon/diabeticretinopathy-messidor-eyepac-preprocessed  DiabeticRetinopathy_Messidor_EyePac_PreProcessed    163MB  2020-06-18 01:01:07            710         20  0.625            \n",
      "dola1507108/diabetic-retinopathy-classified                            Diabetic Retinopathy Classified                       7GB  2019-11-06 17:44:16           1240         11  0.47058824       \n",
      "sovitrath/diabetic-retinopathy-224x224-grayscale-images                Diabetic Retinopathy 224x224 Grayscale Images       157MB  2020-02-18 02:40:18            336          5  0.88235295       \n"
     ]
    }
   ],
   "source": [
    "!kaggle datasets list -s 'diabetic-retinopathy'"
   ]
  },
  {
   "cell_type": "code",
   "execution_count": 37,
   "id": "d358fc4f",
   "metadata": {},
   "outputs": [
    {
     "name": "stdout",
     "output_type": "stream",
     "text": [
      "Warning: Your Kaggle API key is readable by other users on this system! To fix this, you can run 'chmod 600 /Users/josemarcoslopez-rios/.kaggle/kaggle.json'\n",
      "Downloading diabetic-retinopathy-dataset.zip to /Users/josemarcoslopez-rios/Documents/Python_Coding/OCULAR_IMAGING\n",
      "100%|███████████████████████████████████████▊| 349M/350M [00:23<00:00, 15.9MB/s]\n",
      "100%|████████████████████████████████████████| 350M/350M [00:23<00:00, 15.6MB/s]\n"
     ]
    }
   ],
   "source": [
    "!kaggle datasets download -d 'sachinkumar413/diabetic-retinopathy-dataset'"
   ]
  },
  {
   "cell_type": "code",
   "execution_count": 10,
   "id": "69d8704d",
   "metadata": {},
   "outputs": [
    {
     "name": "stdout",
     "output_type": "stream",
     "text": [
      "Password:\n",
      "sudo: a password is required\n"
     ]
    }
   ],
   "source": [
    "#!sudo apt-get install unzip"
   ]
  },
  {
   "cell_type": "code",
   "execution_count": null,
   "id": "1d6acbe3",
   "metadata": {},
   "outputs": [],
   "source": []
  },
  {
   "cell_type": "code",
   "execution_count": null,
   "id": "b8e0c46e",
   "metadata": {},
   "outputs": [],
   "source": []
  }
 ],
 "metadata": {
  "kernelspec": {
   "display_name": "Python 3 (ipykernel)",
   "language": "python",
   "name": "python3"
  },
  "language_info": {
   "codemirror_mode": {
    "name": "ipython",
    "version": 3
   },
   "file_extension": ".py",
   "mimetype": "text/x-python",
   "name": "python",
   "nbconvert_exporter": "python",
   "pygments_lexer": "ipython3",
   "version": "3.9.16"
  }
 },
 "nbformat": 4,
 "nbformat_minor": 5
}
